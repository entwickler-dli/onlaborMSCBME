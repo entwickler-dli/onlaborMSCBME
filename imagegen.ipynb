{
 "cells": [
  {
   "cell_type": "code",
   "execution_count": 6,
   "id": "9a3ab33c-6373-4820-aca2-e398c7df66e8",
   "metadata": {},
   "outputs": [
    {
     "name": "stderr",
     "output_type": "stream",
     "text": [
      "Loading pipeline components...: 100%|████████████████████████████████████████████████████| 6/6 [00:01<00:00,  3.24it/s]\n",
      "100%|██████████████████████████████████████████████████████████████████████████████████| 50/50 [00:13<00:00,  3.66it/s]\n"
     ]
    }
   ],
   "source": [
    "#This project uses Stable Diffusion, an open-source AI model developed by [Stability AI](https://stability.ai/). The model is licensed under the OpenRAIL license.\n",
    "from diffusers import StableDiffusionPipeline, DDIMScheduler\n",
    "import torch\n",
    "import os\n",
    "\n",
    "# Define the directory where you want to save images\n",
    "output_dir = \"E:\\\\generated\\\\angry\"\n",
    "\n",
    "# Ensure the directory exists\n",
    "os.makedirs(output_dir, exist_ok=True)\n",
    "\n",
    "# Enable cuDNN auto-tuner\n",
    "torch.backends.cudnn.benchmark = True\n",
    "\n",
    "# Load the newer model with a different scheduler\n",
    "model_id = \"stabilityai/stable-diffusion-2-1\"\n",
    "scheduler = DDIMScheduler.from_pretrained(model_id, subfolder=\"scheduler\")\n",
    "pipe = StableDiffusionPipeline.from_pretrained(model_id, scheduler=scheduler, torch_dtype=torch.float16)\n",
    "pipe.to(\"cuda\")\n",
    "\n",
    "prompts = [\n",
    "    \"A furious young woman, her eyes blazing with anger, directly facing the camera\",\n",
    "    \"An elderly man, his face red with rage, directly facing the camera with a scowl\",\n",
    "    \"A teenage boy, his expression filled with anger, directly facing the camera\",\n",
    "    \"A middle-aged woman, her eyes narrowed with fury, directly facing the camera\",\n",
    "    \"A little girl, her face contorted with anger, directly facing the camera\",\n",
    "    \"An elderly woman, her face twisted in a snarl of rage, directly facing the camera\",\n",
    "    \"A furious young man, his jaw clenched with anger, directly facing the camera\",\n",
    "    \"A teenage girl, her eyes glaring with intense anger, directly facing the camera\",\n",
    "    \"A middle-aged man, his face flushed with fury, directly facing the camera\",\n",
    "    \"An elderly man, his eyes burning with rage, directly facing the camera\",\n",
    "    \"A young woman, her nostrils flaring with anger, directly facing the camera\",\n",
    "    \"A teenage boy, his mouth set in a hard line of anger, directly facing the camera\",\n",
    "    \"A middle-aged woman, her face tight with fury, directly facing the camera\",\n",
    "    \"A little girl, her eyes flashing with anger, directly facing the camera\",\n",
    "    \"An elderly woman, her lips curled in a snarl, directly facing the camera\",\n",
    "    \"A young man, his face rigid with anger, directly facing the camera\",\n",
    "    \"A teenage girl, her brow furrowed with rage, directly facing the camera\",\n",
    "    \"A middle-aged man, his eyes piercing with anger, directly facing the camera\",\n",
    "    \"An elderly man, his teeth clenched in anger, directly facing the camera\",\n",
    "    \"A young woman, her face stormy with fury, directly facing the camera\",\n",
    "    \"A teenage boy, his fists clenched in anger, directly facing the camera\",\n",
    "    \"A middle-aged woman, her eyes cold with rage, directly facing the camera\",\n",
    "    \"A little girl, her face scrunched with anger, directly facing the camera\",\n",
    "    \"An elderly woman, her eyes narrowed in fury, directly facing the camera\",\n",
    "    \"A young man, his face dark with anger, directly facing the camera\",\n",
    "    \"A teenage girl, her lips pressed in a thin line of anger, directly facing the camera\",\n",
    "    \"A middle-aged man, his face severe with fury, directly facing the camera\",\n",
    "    \"An elderly man, his eyes glaring with anger, directly facing the camera\",\n",
    "    \"A young woman, her eyebrows drawn together in anger, directly facing the camera\",\n",
    "    \"A teenage boy, his mouth twisted in rage, directly facing the camera\",\n",
    "    \"A middle-aged woman, her eyes blazing with anger, directly facing the camera\",\n",
    "    \"A little girl, her lips pouting in anger, directly facing the camera\",\n",
    "    \"An elderly woman, her face stern with fury, directly facing the camera\",\n",
    "    \"A young man, his eyes darkened with anger, directly facing the camera\",\n",
    "    \"A teenage girl, her teeth bared in a snarl, directly facing the camera\",\n",
    "    \"A middle-aged man, his face contorted with anger, directly facing the camera\",\n",
    "    \"An elderly man, his mouth set in a grim line, directly facing the camera\",\n",
    "    \"A young woman, her eyes filled with intense anger, directly facing the camera\",\n",
    "    \"A teenage boy, his face taut with fury, directly facing the camera\",\n",
    "    \"A middle-aged woman, her expression hard with rage, directly facing the camera\",\n",
    "    \"A little girl, her eyes narrowed and angry, directly facing the camera\",\n",
    "    \"An elderly woman, her face flushed with anger, directly facing the camera\",\n",
    "    \"A young man, his nostrils flaring with rage, directly facing the camera\",\n",
    "    \"A teenage girl, her expression fierce with anger, directly facing the camera\",\n",
    "    \"A middle-aged man, his eyes sharp with fury, directly facing the camera\",\n",
    "    \"An elderly man, his jaw tight with anger, directly facing the camera\",\n",
    "    \"A young woman, her mouth set in a grim line, directly facing the camera\",\n",
    "    \"A young woman, her eyes glaring with fury, directly facing the camera\",\n",
    "    \"A young woman, her face contorted with rage, directly facing the camera\",\n",
    "    \"A young woman, her lips curled in anger, directly facing the camera\"\n",
    "]\n",
    "\n",
    "\n",
    "# Generate an image\n",
    "for i, prompt in enumerate(prompts):\n",
    "    image = pipe(prompt).images[0]\n",
    "    image.save(f\"{output_dir}\\\\image_{i}.png\")"
   ]
  },
  {
   "cell_type": "code",
   "execution_count": null,
   "id": "21fd9b73-324d-48ea-bec2-d1b14e589889",
   "metadata": {},
   "outputs": [],
   "source": []
  }
 ],
 "metadata": {
  "kernelspec": {
   "display_name": "Python (mypytorch)",
   "language": "python",
   "name": "mypytorch"
  },
  "language_info": {
   "codemirror_mode": {
    "name": "ipython",
    "version": 3
   },
   "file_extension": ".py",
   "mimetype": "text/x-python",
   "name": "python",
   "nbconvert_exporter": "python",
   "pygments_lexer": "ipython3",
   "version": "3.9.19"
  }
 },
 "nbformat": 4,
 "nbformat_minor": 5
}
