{
 "cells": [
  {
   "cell_type": "code",
   "execution_count": 7,
   "id": "ff42ea95-2e91-4ea2-950c-8512c079ce18",
   "metadata": {},
   "outputs": [],
   "source": [
    "import os\n",
    "import random\n",
    "from PIL import Image, ImageDraw, ImageFont\n",
    "import matplotlib.pyplot as plt\n",
    "\n",
    "def load_random_image_from_folder(folder):\n",
    "    images = [f for f in os.listdir(folder) if os.path.isfile(os.path.join(folder, f))]\n",
    "    if not images:\n",
    "        return None\n",
    "    random_image_path = os.path.join(folder, random.choice(images))\n",
    "    return Image.open(random_image_path)\n",
    "\n",
    "def add_text_to_image(image, text, font_path=None, font_size=20):\n",
    "    draw = ImageDraw.Draw(image)\n",
    "    font = ImageFont.truetype(font_path, font_size) if font_path else ImageFont.load_default()\n",
    "    text_bbox = draw.textbbox((0, 0), text, font=font)\n",
    "    text_width = text_bbox[2] - text_bbox[0]\n",
    "    text_height = text_bbox[3] - text_bbox[1]\n",
    "    width, height = image.size\n",
    "    text_position = ((width - text_width) // 2, height - text_height - 10)\n",
    "    draw.text(text_position, text, font=font, fill=\"white\")\n",
    "    return image\n",
    "\n",
    "def create_mosaic_image(image_list, titles, rows, cols, thumb_size=(100, 100)):\n",
    "    mosaic_width = cols * thumb_size[0]\n",
    "    mosaic_height = rows * thumb_size[1]\n",
    "    mosaic_image = Image.new('RGB', (mosaic_width, mosaic_height))\n",
    "\n",
    "    for idx, (image, title) in enumerate(zip(image_list, titles)):\n",
    "        image = image.resize(thumb_size)\n",
    "        image = add_text_to_image(image, title)\n",
    "        x = (idx % cols) * thumb_size[0]\n",
    "        y = (idx // cols) * thumb_size[1]\n",
    "        mosaic_image.paste(image, (x, y))\n",
    "    \n",
    "    return mosaic_image\n",
    "\n",
    "def main(base_folder):\n",
    "    all_images = []\n",
    "    titles = []\n",
    "    for folder_name in os.listdir(base_folder):\n",
    "        folder_path = os.path.join(base_folder, folder_name)\n",
    "        if os.path.isdir(folder_path):\n",
    "            image = load_random_image_from_folder(folder_path)\n",
    "            if image:\n",
    "                all_images.append(image)\n",
    "                titles.append(folder_name)\n",
    "    \n",
    "    num_images = len(all_images)\n",
    "    cols = 8  # Number of columns in the mosaic\n",
    "    rows = (num_images + cols - 1) // cols  # Calculate number of rows needed\n",
    "    \n",
    "    mosaic_image = create_mosaic_image(all_images, titles, rows, cols)\n",
    "    mosaic_image.show()  # This will display the mosaic image\n",
    "\n",
    "if __name__ == \"__main__\":\n",
    "    main(\"E:\\\\FerAffectnetDatabase\")\n"
   ]
  },
  {
   "cell_type": "code",
   "execution_count": null,
   "id": "91cd9b5c-60bf-4c97-8d32-f126d331590e",
   "metadata": {},
   "outputs": [],
   "source": []
  }
 ],
 "metadata": {
  "kernelspec": {
   "display_name": "Python (mypytorch)",
   "language": "python",
   "name": "mypytorch"
  },
  "language_info": {
   "codemirror_mode": {
    "name": "ipython",
    "version": 3
   },
   "file_extension": ".py",
   "mimetype": "text/x-python",
   "name": "python",
   "nbconvert_exporter": "python",
   "pygments_lexer": "ipython3",
   "version": "3.9.19"
  }
 },
 "nbformat": 4,
 "nbformat_minor": 5
}
