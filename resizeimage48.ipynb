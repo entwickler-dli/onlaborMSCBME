{
 "cells": [
  {
   "cell_type": "code",
   "execution_count": 2,
   "id": "00f180eb-b87b-4e56-9884-9114ce935cc8",
   "metadata": {},
   "outputs": [
    {
     "name": "stdout",
     "output_type": "stream",
     "text": [
      "Requirement already satisfied: pillow in c:\\users\\dli0305\\miniconda3\\envs\\tensorflow\\lib\\site-packages (10.3.0)\n",
      "Note: you may need to restart the kernel to use updated packages.\n"
     ]
    }
   ],
   "source": [
    "pip install --upgrade pillow"
   ]
  },
  {
   "cell_type": "code",
   "execution_count": null,
   "id": "7f610db6-4540-485f-b2d0-12189aa4c9bc",
   "metadata": {},
   "outputs": [],
   "source": [
    "import os\n",
    "from PIL import Image\n",
    "\n",
    "def resize_image(image_path, output_folder, size=(48,48)):\n",
    "    img = Image.open(image_path)\n",
    "    img = img.resize(size, Image.LANCZOS)\n",
    "\n",
    "    # Create output directory if it doesn't exist\n",
    "    os.makedirs(os.path.dirname(output_folder), exist_ok=True)\n",
    "    \n",
    "    img.save(output_folder)\n",
    "\n",
    "def resize_images_in_folder(input_folder, output_folder):\n",
    "    for subdir, dirs, files in os.walk(input_folder):\n",
    "        for file in files:\n",
    "            input_file_path = os.path.join(subdir, file)\n",
    "            # Create the same structure in the output folder\n",
    "            output_file_path = os.path.join(output_folder, os.path.relpath(input_file_path, input_folder))\n",
    "\n",
    "            resize_image(input_file_path, output_file_path)\n",
    "\n",
    "# Call the function\n",
    "resize_images_in_folder('E:\\\\Face_expression_recognition_datasetFULL\\\\images\\\\validation', 'E:\\\\Face_expression_recognition_dataset48\\\\test')\n"
   ]
  },
  {
   "cell_type": "code",
   "execution_count": null,
   "id": "afc39d3a-1c65-4dda-b8a6-25a011faef16",
   "metadata": {},
   "outputs": [],
   "source": []
  }
 ],
 "metadata": {
  "kernelspec": {
   "display_name": "Python 3.9 (tensorflow)",
   "language": "python",
   "name": "tensorflow"
  },
  "language_info": {
   "codemirror_mode": {
    "name": "ipython",
    "version": 3
   },
   "file_extension": ".py",
   "mimetype": "text/x-python",
   "name": "python",
   "nbconvert_exporter": "python",
   "pygments_lexer": "ipython3",
   "version": "3.9.18"
  }
 },
 "nbformat": 4,
 "nbformat_minor": 5
}
